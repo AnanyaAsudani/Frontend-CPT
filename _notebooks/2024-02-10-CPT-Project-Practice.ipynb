{
 "cells": [
  {
   "cell_type": "markdown",
   "metadata": {},
   "source": [
    "<!DOCTYPE html>\n",
    "<html lang=\"en\">\n",
    "<head>\n",
    "    <meta charset=\"UTF-8\">\n",
    "    <meta name=\"viewport\" content=\"width=device-width, initial-scale=1.0\">\n",
    "    <title>Mental Health Questionnaire</title>\n",
    "    <link rel=\"stylesheet\" href=\"styles.css\">\n",
    "</head>\n",
    "<body>\n",
    "    <div class=\"container\">\n",
    "        <h1>Mental Health Questionnaire</h1>\n",
    "        <form id=\"questionnaireForm\">\n",
    "            <h2>how often do you feel tired on a daily basis. Always, sometimes, or never?</h2> \n",
    "            <label for=\"question1\">Question 1:</label>\n",
    "            <input type=\"text\" id=\"question1\" name=\"question1\" required>\n",
    "        <form id=\"questionnaireForm\">\n",
    "            <h2>Do you often feel irritable at other people?</h2> \n",
    "            <label for=\"question1\">Question 2:</label>\n",
    "            <input type=\"text\" id=\"question1\" name=\"question1\" required>\n",
    "         <form id=\"questionnaireForm\">\n",
    "            <h2>Overall, how often do you feel stressed?</h2> \n",
    "            <label for=\"question1\">Question 3:</label>\n",
    "            <input type=\"text\" id=\"question1\" name=\"question1\" required>\n",
    "        <form id=\"questionnaireForm\">\n",
    "            <h2>How often do you think about the meaning of life?</h2> \n",
    "            <label for=\"question1\">Question 4:</label>\n",
    "            <input type=\"text\" id=\"question1\" name=\"question1\" required>\n",
    "        <form id=\"questionnaireForm\">\n",
    "            <h2>How often do you feel hopeless?</h2> \n",
    "            <label for=\"question1\">Question 5:</label>\n",
    "            <input type=\"text\" id=\"question1\" name=\"question1\" required>\n",
    "        <form id=\"questionnaireForm\">\n",
    "            <h2>How often do you have poor appetite or difficulty eating or overeating?</h2> \n",
    "            <label for=\"question1\">Question 6:</label>\n",
    "            <input type=\"text\" id=\"question1\" name=\"question1\" required>\n",
    "        <form id=\"questionnaireForm\">\n",
    "            <h2>Do you have difficulty screaming?</h2> \n",
    "            <label for=\"question1\">Question 7:</label>\n",
    "            <input type=\"text\" id=\"question1\" name=\"question1\" required>\n",
    "        <!-- Add more questions as needed -->\n",
    "            \n",
    "            <button type=\"submit\">Submit</button>\n",
    "        </form>\n",
    "        <div id=\"diagnosisResult\"></div>\n",
    "    </div>\n",
    "    <script src=\"script.js\"></script>\n",
    "</body>\n",
    "</html>\n"
   ]
  }
 ],
 "metadata": {
  "kernelspec": {
   "display_name": "Python 3",
   "language": "python",
   "name": "python3"
  },
  "language_info": {
   "codemirror_mode": {
    "name": "ipython",
    "version": 3
   },
   "file_extension": ".py",
   "mimetype": "text/x-python",
   "name": "python",
   "nbconvert_exporter": "python",
   "pygments_lexer": "ipython3",
   "version": "3.11.4"
  },
  "orig_nbformat": 4
 },
 "nbformat": 4,
 "nbformat_minor": 2
}
